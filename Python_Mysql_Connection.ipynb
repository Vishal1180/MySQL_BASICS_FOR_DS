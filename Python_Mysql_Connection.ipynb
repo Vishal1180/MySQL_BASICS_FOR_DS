{
 "cells": [
  {
   "cell_type": "markdown",
   "id": "11cd200e",
   "metadata": {},
   "source": [
    "# Creating Connection"
   ]
  },
  {
   "cell_type": "code",
   "execution_count": 24,
   "id": "7d89e595",
   "metadata": {},
   "outputs": [
    {
     "name": "stdout",
     "output_type": "stream",
     "text": [
      "MySQLCursor: (Nothing executed yet)\n"
     ]
    }
   ],
   "source": [
    "import mysql\n",
    "import mysql.connector\n",
    "cnx = mysql.connector.connect(host=\"localhost\",port=int(3308),user=\"root\",password=\"vishal\",database='studentinfo')\n",
    "cursor = cnx.cursor()\n",
    "print(cursor)\n",
    "#cnx.close() close the connection"
   ]
  },
  {
   "cell_type": "markdown",
   "id": "64125c86",
   "metadata": {},
   "source": [
    "# Creating Database"
   ]
  },
  {
   "cell_type": "code",
   "execution_count": 25,
   "id": "97fe2a26",
   "metadata": {},
   "outputs": [],
   "source": [
    "cursor = cnx.cursor()\n",
    "cursor.execute(\"CREATE DATABASE mydatabase\")"
   ]
  },
  {
   "cell_type": "markdown",
   "id": "67ff7321",
   "metadata": {},
   "source": [
    "# Show Databases\n",
    "\n"
   ]
  },
  {
   "cell_type": "code",
   "execution_count": 26,
   "id": "62f2fb7a",
   "metadata": {},
   "outputs": [
    {
     "name": "stdout",
     "output_type": "stream",
     "text": [
      "('information_schema',)\n",
      "('mydatabase',)\n",
      "('mysql',)\n",
      "('performance_schema',)\n",
      "('sakila',)\n",
      "('studentinfo',)\n",
      "('sys',)\n",
      "('world',)\n"
     ]
    }
   ],
   "source": [
    "cursor = cnx.cursor()\n",
    "cursor.execute(\"SHOW DATABASES\")\n",
    "for x in cursor:\n",
    "  print(x)"
   ]
  },
  {
   "cell_type": "markdown",
   "id": "879b3b0d",
   "metadata": {},
   "source": [
    "# Fetching Data"
   ]
  },
  {
   "cell_type": "code",
   "execution_count": 27,
   "id": "c55c4128",
   "metadata": {},
   "outputs": [
    {
     "name": "stdout",
     "output_type": "stream",
     "text": [
      "1 akash\n"
     ]
    }
   ],
   "source": [
    "query = (\"select roll_no,name from studentinfo.student\")\n",
    "cursor.execute(query)\n",
    "for (roll_no,name) in cursor:\n",
    "    print(roll_no,name)\n",
    "cursor.close()\n",
    "cnx.close()"
   ]
  },
  {
   "cell_type": "code",
   "execution_count": 28,
   "id": "319df76e",
   "metadata": {},
   "outputs": [],
   "source": [
    "cnx = mysql.connector.connect(host=\"localhost\",port=int(3308),user=\"root\",password=\"vishal\",database='studentinfo')\n",
    "cursor = cnx.cursor()\n",
    "cursor.execute(\"CREATE TABLE studentinfo.team1(name varchar(20),location varchar(40))\")"
   ]
  },
  {
   "cell_type": "code",
   "execution_count": 29,
   "id": "64295359",
   "metadata": {},
   "outputs": [],
   "source": [
    "insertquery = \"INSERT INTO studentinfo.team1 (name,location) VALUE (%s,%s)\" \n",
    "value = ('Vish','pune')\n",
    "cursor.execute(insertquery,value)"
   ]
  },
  {
   "cell_type": "code",
   "execution_count": 30,
   "id": "742dccd5",
   "metadata": {},
   "outputs": [],
   "source": [
    "insertquery = \"INSERT INTO studentinfo.team1 (name,location) VALUE (%s,%s)\" \n",
    "value = ('neha','pune')\n",
    "cursor.execute(insertquery,value)"
   ]
  },
  {
   "cell_type": "code",
   "execution_count": 31,
   "id": "f6729f2a",
   "metadata": {},
   "outputs": [],
   "source": [
    "insertquery = \"INSERT INTO studentinfo.team1 (name,location) VALUE (%s,%s)\" \n",
    "value = ('rutu','pune')\n",
    "cursor.execute(insertquery,value)"
   ]
  },
  {
   "cell_type": "code",
   "execution_count": 32,
   "id": "2996425e",
   "metadata": {},
   "outputs": [],
   "source": [
    "cursor = cnx.cursor()\n",
    "cursor.execute(\"Select * from team1\")"
   ]
  },
  {
   "cell_type": "code",
   "execution_count": 33,
   "id": "b342170d",
   "metadata": {},
   "outputs": [
    {
     "data": {
      "text/plain": [
       "[('Vish', 'pune'), ('neha', 'pune'), ('rutu', 'pune')]"
      ]
     },
     "execution_count": 33,
     "metadata": {},
     "output_type": "execute_result"
    }
   ],
   "source": [
    "cursor.fetchall()"
   ]
  },
  {
   "cell_type": "markdown",
   "id": "1f2700c2",
   "metadata": {},
   "source": [
    "# Multiple Insert"
   ]
  },
  {
   "cell_type": "code",
   "execution_count": 34,
   "id": "ed2eb989",
   "metadata": {},
   "outputs": [],
   "source": [
    "cursor = cnx.cursor()\n",
    "multiple_insert = \"INSERT INTO studentinfo.team1 (name,location) VALUES (%s,%s)\" \n",
    "values = [('VINOD','Newzland'),('shubham','USA'),('kkp','China'),('RASHMI','Mumbai')]\n",
    "cursor.executemany(multiple_insert,values)"
   ]
  },
  {
   "cell_type": "markdown",
   "id": "6f5b0cdb",
   "metadata": {},
   "source": [
    "# Droping the table"
   ]
  },
  {
   "cell_type": "code",
   "execution_count": 37,
   "id": "59d17cd3",
   "metadata": {},
   "outputs": [],
   "source": [
    "#cursor.execute(\"Drop table studentinfo.team1\")"
   ]
  },
  {
   "cell_type": "markdown",
   "id": "304369bb",
   "metadata": {},
   "source": [
    "# Fetching 1 and Many Records"
   ]
  },
  {
   "cell_type": "code",
   "execution_count": 38,
   "id": "7f251b39",
   "metadata": {},
   "outputs": [],
   "source": [
    "cursor.execute(\"Select * from team1\")"
   ]
  },
  {
   "cell_type": "code",
   "execution_count": 39,
   "id": "d210e3b2",
   "metadata": {},
   "outputs": [
    {
     "data": {
      "text/plain": [
       "('Vish', 'pune')"
      ]
     },
     "execution_count": 39,
     "metadata": {},
     "output_type": "execute_result"
    }
   ],
   "source": [
    "cursor.fetchone()"
   ]
  },
  {
   "cell_type": "code",
   "execution_count": 40,
   "id": "5214744e",
   "metadata": {},
   "outputs": [
    {
     "name": "stdout",
     "output_type": "stream",
     "text": [
      "MySQLCursor: Select * from team1\n"
     ]
    }
   ],
   "source": [
    "print(cursor)"
   ]
  },
  {
   "cell_type": "code",
   "execution_count": 44,
   "id": "53709340",
   "metadata": {},
   "outputs": [
    {
     "data": {
      "text/plain": [
       "[('neha', 'pune'),\n",
       " ('rutu', 'pune'),\n",
       " ('VINOD', 'Newzland'),\n",
       " ('shubham', 'USA'),\n",
       " ('kkp', 'China'),\n",
       " ('RASHMI', 'Mumbai')]"
      ]
     },
     "execution_count": 44,
     "metadata": {},
     "output_type": "execute_result"
    }
   ],
   "source": [
    "cursor.fetchall()"
   ]
  },
  {
   "cell_type": "markdown",
   "id": "e7ffbd46",
   "metadata": {},
   "source": [
    "# Delete row from table"
   ]
  },
  {
   "cell_type": "code",
   "execution_count": 47,
   "id": "43ca3ea6",
   "metadata": {},
   "outputs": [],
   "source": [
    "sql = \"DELETE FROM team1 WHERE name = '%s'\" % ('kkp')\n",
    "# Execute the SQL command\n",
    "cursor.execute(sql)   \n",
    "# Commit your changes in the database\n",
    "cnx.commit()"
   ]
  },
  {
   "cell_type": "code",
   "execution_count": 49,
   "id": "13f28de0",
   "metadata": {},
   "outputs": [
    {
     "data": {
      "text/plain": [
       "[('Vish', 'pune'),\n",
       " ('neha', 'pune'),\n",
       " ('rutu', 'pune'),\n",
       " ('VINOD', 'Newzland'),\n",
       " ('shubham', 'USA'),\n",
       " ('RASHMI', 'Mumbai')]"
      ]
     },
     "execution_count": 49,
     "metadata": {},
     "output_type": "execute_result"
    }
   ],
   "source": [
    "cursor.execute(\"Select * from team1\")\n",
    "cursor.fetchall()"
   ]
  },
  {
   "cell_type": "markdown",
   "id": "d101476c",
   "metadata": {},
   "source": [
    "# Update location"
   ]
  },
  {
   "cell_type": "code",
   "execution_count": 51,
   "id": "e124c4ac",
   "metadata": {},
   "outputs": [
    {
     "name": "stdout",
     "output_type": "stream",
     "text": [
      "1 record(s) affected\n"
     ]
    }
   ],
   "source": [
    "cursor = cnx.cursor()\n",
    "\n",
    "sql = \"UPDATE team1 SET location = 'Nagpure' WHERE location = 'USA'\"\n",
    "\n",
    "cursor.execute(sql)\n",
    "\n",
    "cnx.commit()\n",
    "\n",
    "print(cursor.rowcount, \"record(s) affected\")"
   ]
  },
  {
   "cell_type": "code",
   "execution_count": 52,
   "id": "2284a691",
   "metadata": {},
   "outputs": [
    {
     "data": {
      "text/plain": [
       "[('Vish', 'pune'),\n",
       " ('neha', 'pune'),\n",
       " ('rutu', 'pune'),\n",
       " ('VINOD', 'Newzland'),\n",
       " ('shubham', 'Nagpure'),\n",
       " ('RASHMI', 'Mumbai')]"
      ]
     },
     "execution_count": 52,
     "metadata": {},
     "output_type": "execute_result"
    }
   ],
   "source": [
    "cursor.execute(\"Select * from team1\")\n",
    "cursor.fetchall()"
   ]
  },
  {
   "cell_type": "markdown",
   "id": "8f196ad3",
   "metadata": {},
   "source": [
    "# Order by"
   ]
  },
  {
   "cell_type": "code",
   "execution_count": 54,
   "id": "53d4cc04",
   "metadata": {},
   "outputs": [
    {
     "name": "stdout",
     "output_type": "stream",
     "text": [
      "('Vish', 'pune')\n",
      "('VINOD', 'Newzland')\n",
      "('shubham', 'Nagpure')\n",
      "('rutu', 'pune')\n",
      "('RASHMI', 'Mumbai')\n",
      "('neha', 'pune')\n"
     ]
    }
   ],
   "source": [
    "cursor = cnx.cursor()\n",
    "\n",
    "sql = \"SELECT * FROM team1 ORDER BY name DESC\"\n",
    "\n",
    "cursor.execute(sql)\n",
    "\n",
    "myresult = cursor.fetchall()\n",
    "\n",
    "for x in myresult:\n",
    "  print(x)"
   ]
  },
  {
   "cell_type": "code",
   "execution_count": 58,
   "id": "10068ab1",
   "metadata": {},
   "outputs": [
    {
     "name": "stdout",
     "output_type": "stream",
     "text": [
      "('neha', 'pune')\n",
      "('RASHMI', 'Mumbai')\n",
      "('rutu', 'pune')\n",
      "('shubham', 'Nagpure')\n",
      "('VINOD', 'Newzland')\n",
      "('Vish', 'pune')\n"
     ]
    }
   ],
   "source": [
    "cursor = cnx.cursor()\n",
    "\n",
    "sql = \"SELECT * FROM team1 ORDER BY name ASC\"\n",
    "\n",
    "cursor.execute(sql)\n",
    "\n",
    "myresult = cursor.fetchall()\n",
    "\n",
    "for x in myresult:\n",
    "  print(x)"
   ]
  },
  {
   "cell_type": "markdown",
   "id": "0f906efb",
   "metadata": {},
   "source": [
    "# Where clause"
   ]
  },
  {
   "cell_type": "code",
   "execution_count": 56,
   "id": "c561b15d",
   "metadata": {},
   "outputs": [
    {
     "name": "stdout",
     "output_type": "stream",
     "text": [
      "('Vish', 'pune')\n",
      "('neha', 'pune')\n",
      "('rutu', 'pune')\n"
     ]
    }
   ],
   "source": [
    "cursor = cnx.cursor()\n",
    "\n",
    "sql = \"SELECT * FROM team1 WHERE location ='pune'\"\n",
    "\n",
    "cursor.execute(sql)\n",
    "\n",
    "myresult = cursor.fetchall()\n",
    "\n",
    "for x in myresult:\n",
    "  print(x)"
   ]
  },
  {
   "cell_type": "markdown",
   "id": "44f7bccd",
   "metadata": {},
   "source": [
    "# Join operations(inner join, right join,left join)"
   ]
  },
  {
   "cell_type": "code",
   "execution_count": 59,
   "id": "15dc38ad",
   "metadata": {},
   "outputs": [],
   "source": [
    "cursor.execute(\"CREATE TABLE studentinfo.team2(id int,name varchar(20),location varchar(40))\")"
   ]
  },
  {
   "cell_type": "code",
   "execution_count": 60,
   "id": "bcad4f11",
   "metadata": {},
   "outputs": [],
   "source": [
    "cursor = cnx.cursor()\n",
    "multiple_insert = \"INSERT INTO studentinfo.team2 (id,name,location) VALUES (%s,%s,%s)\" \n",
    "values = [(1,'VINOD','pune'),(2,'nanum','nagpur'),(3,'rushi','pune'),(4,'RASHMI','Mumbai'),(5,'Vish','pune')]\n",
    "cursor.executemany(multiple_insert,values)"
   ]
  },
  {
   "cell_type": "code",
   "execution_count": 64,
   "id": "9926998c",
   "metadata": {},
   "outputs": [
    {
     "data": {
      "text/plain": [
       "[('Vish', 'pune'),\n",
       " ('neha', 'pune'),\n",
       " ('rutu', 'pune'),\n",
       " ('VINOD', 'Newzland'),\n",
       " ('shubham', 'Nagpure'),\n",
       " ('RASHMI', 'Mumbai')]"
      ]
     },
     "execution_count": 64,
     "metadata": {},
     "output_type": "execute_result"
    }
   ],
   "source": [
    "cursor.execute(\"Select * from team1\")\n",
    "cursor.fetchall()"
   ]
  },
  {
   "cell_type": "code",
   "execution_count": 61,
   "id": "76f40c9e",
   "metadata": {},
   "outputs": [
    {
     "data": {
      "text/plain": [
       "[(1, 'VINOD', 'pune'),\n",
       " (2, 'nanum', 'nagpur'),\n",
       " (3, 'rushi', 'pune'),\n",
       " (4, 'RASHMI', 'Mumbai'),\n",
       " (5, 'Vish', 'pune')]"
      ]
     },
     "execution_count": 61,
     "metadata": {},
     "output_type": "execute_result"
    }
   ],
   "source": [
    "cursor.execute(\"Select * from team2\")\n",
    "cursor.fetchall()"
   ]
  },
  {
   "cell_type": "markdown",
   "id": "e58e6bae",
   "metadata": {},
   "source": [
    "# INNER JOIN"
   ]
  },
  {
   "cell_type": "code",
   "execution_count": 63,
   "id": "b7ce6243",
   "metadata": {},
   "outputs": [
    {
     "name": "stdout",
     "output_type": "stream",
     "text": [
      "('Vish', 'Vish')\n",
      "('VINOD', 'VINOD')\n",
      "('RASHMI', 'RASHMI')\n"
     ]
    }
   ],
   "source": [
    "cursor = cnx.cursor()\n",
    "\n",
    "sql = \"SELECT team1.name,team2.name FROM team1 INNER JOIN team2 ON team1.name = team2.name\"\n",
    "\n",
    "cursor.execute(sql)\n",
    "\n",
    "myresult = cursor.fetchall()\n",
    "\n",
    "for x in myresult:\n",
    "  print(x)\n"
   ]
  },
  {
   "cell_type": "markdown",
   "id": "44375b66",
   "metadata": {},
   "source": [
    "# LEFT JOIN"
   ]
  },
  {
   "cell_type": "code",
   "execution_count": 65,
   "id": "f31ba935",
   "metadata": {},
   "outputs": [
    {
     "name": "stdout",
     "output_type": "stream",
     "text": [
      "('Vish', 'Vish')\n",
      "('neha', None)\n",
      "('rutu', None)\n",
      "('VINOD', 'VINOD')\n",
      "('shubham', None)\n",
      "('RASHMI', 'RASHMI')\n"
     ]
    }
   ],
   "source": [
    "cursor = cnx.cursor()\n",
    "\n",
    "sql = \"SELECT team1.name,team2.name FROM team1 LEFT JOIN team2 ON team1.name = team2.name\"\n",
    "\n",
    "cursor.execute(sql)\n",
    "\n",
    "myresult = cursor.fetchall()\n",
    "\n",
    "for x in myresult:\n",
    "  print(x)"
   ]
  },
  {
   "cell_type": "markdown",
   "id": "b25befdc",
   "metadata": {},
   "source": [
    "# RIGHT JOIN"
   ]
  },
  {
   "cell_type": "code",
   "execution_count": 66,
   "id": "cce4dd4e",
   "metadata": {},
   "outputs": [
    {
     "name": "stdout",
     "output_type": "stream",
     "text": [
      "('VINOD', 'VINOD')\n",
      "(None, 'nanum')\n",
      "(None, 'rushi')\n",
      "('RASHMI', 'RASHMI')\n",
      "('Vish', 'Vish')\n"
     ]
    }
   ],
   "source": [
    "cursor = cnx.cursor()\n",
    "\n",
    "sql = \"SELECT team1.name,team2.name FROM team1 RIGHT JOIN team2 ON team1.name = team2.name\"\n",
    "\n",
    "cursor.execute(sql)\n",
    "\n",
    "myresult = cursor.fetchall()\n",
    "\n",
    "for x in myresult:\n",
    "  print(x)"
   ]
  },
  {
   "cell_type": "code",
   "execution_count": null,
   "id": "af3a3036",
   "metadata": {},
   "outputs": [],
   "source": []
  }
 ],
 "metadata": {
  "kernelspec": {
   "display_name": "Python 3 (ipykernel)",
   "language": "python",
   "name": "python3"
  },
  "language_info": {
   "codemirror_mode": {
    "name": "ipython",
    "version": 3
   },
   "file_extension": ".py",
   "mimetype": "text/x-python",
   "name": "python",
   "nbconvert_exporter": "python",
   "pygments_lexer": "ipython3",
   "version": "3.9.5"
  }
 },
 "nbformat": 4,
 "nbformat_minor": 5
}
